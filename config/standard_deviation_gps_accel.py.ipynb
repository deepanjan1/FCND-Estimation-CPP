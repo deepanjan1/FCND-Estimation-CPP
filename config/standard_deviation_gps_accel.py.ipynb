{
 "cells": [
  {
   "cell_type": "code",
   "execution_count": 2,
   "metadata": {},
   "outputs": [],
   "source": [
    "import numpy as np"
   ]
  },
  {
   "cell_type": "code",
   "execution_count": 3,
   "metadata": {},
   "outputs": [],
   "source": [
    "# load GPS data into 2-D numpy array\n",
    "load_gps = './log/Graph1.txt'\n",
    "\n",
    "gps_data = np.loadtxt(load_gps, delimiter=',', dtype='Float64', skiprows=1)\n",
    "\n",
    "# print first few rows\n",
    "# print(gps_data[:5])"
   ]
  },
  {
   "cell_type": "code",
   "execution_count": 9,
   "metadata": {},
   "outputs": [
    {
     "name": "stdout",
     "output_type": "stream",
     "text": [
      "GPS X Standard Deviation:\n",
      "0.6223285067947715\n"
     ]
    }
   ],
   "source": [
    "# calculate standard deviation\n",
    "std_gps = np.std(gps_data[:, 1])\n",
    "\n",
    "# print value\n",
    "print(\"GPS X Standard Deviation:\")\n",
    "print(std_gps)"
   ]
  },
  {
   "cell_type": "code",
   "execution_count": 5,
   "metadata": {},
   "outputs": [
    {
     "name": "stdout",
     "output_type": "stream",
     "text": [
      "[[ 0.005     0.143543]\n",
      " [ 0.01     -0.840803]\n",
      " [ 0.015     0.020112]\n",
      " [ 0.02     -0.815723]\n",
      " [ 0.025     0.888418]]\n"
     ]
    }
   ],
   "source": [
    "# load Accelerometer data into 2-D numpy array\n",
    "load_accel = './log/Graph2.txt'\n",
    "\n",
    "accel_data = np.loadtxt(load_accel, delimiter=',', dtype='Float64', skiprows=1)\n",
    "\n",
    "# print first few rows\n",
    "print(accel_data[:5])"
   ]
  },
  {
   "cell_type": "code",
   "execution_count": 6,
   "metadata": {},
   "outputs": [
    {
     "name": "stdout",
     "output_type": "stream",
     "text": [
      "Accelerometer X Standard Deviation:\n",
      "0.49154795814269214\n"
     ]
    }
   ],
   "source": [
    "# calculate standard deviation\n",
    "std_accel = np.std(accel_data[:, 1])\n",
    "\n",
    "# print value\n",
    "print(\"Accelerometer X Standard Deviation:\")\n",
    "print(std_accel)"
   ]
  }
 ],
 "metadata": {
  "kernelspec": {
   "display_name": "Python 3",
   "language": "python",
   "name": "python3"
  },
  "language_info": {
   "codemirror_mode": {
    "name": "ipython",
    "version": 3
   },
   "file_extension": ".py",
   "mimetype": "text/x-python",
   "name": "python",
   "nbconvert_exporter": "python",
   "pygments_lexer": "ipython3",
   "version": "3.7.3"
  }
 },
 "nbformat": 4,
 "nbformat_minor": 2
}
